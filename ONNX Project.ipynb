{
 "cells": [
  {
   "cell_type": "code",
   "execution_count": 13,
   "id": "7ce5f462",
   "metadata": {},
   "outputs": [
    {
     "name": "stdout",
     "output_type": "stream",
     "text": [
      "Collecting skl2onnx\n",
      "  Downloading skl2onnx-1.18.0-py2.py3-none-any.whl (300 kB)\n",
      "     -------------------------------------- 300.3/300.3 kB 1.2 MB/s eta 0:00:00\n",
      "Requirement already satisfied: onnxconverter-common>=1.7.0 in c:\\users\\21tim\\anaconda3\\envs\\py37_its365\\lib\\site-packages (from skl2onnx) (1.13.0)\n",
      "Requirement already satisfied: onnx>=1.2.1 in c:\\users\\21tim\\anaconda3\\envs\\py37_its365\\lib\\site-packages (from skl2onnx) (1.14.1)\n",
      "  Downloading skl2onnx-1.17.0-py2.py3-none-any.whl (298 kB)\n",
      "     ------------------------------------ 298.4/298.4 kB 878.6 kB/s eta 0:00:00\n",
      "  Downloading skl2onnx-1.16.0-py2.py3-none-any.whl (298 kB)\n",
      "     -------------------------------------- 298.5/298.5 kB 1.1 MB/s eta 0:00:00\n",
      "Requirement already satisfied: scikit-learn>=0.19 in c:\\users\\21tim\\anaconda3\\envs\\py37_its365\\lib\\site-packages (from skl2onnx) (1.0.2)\n",
      "Requirement already satisfied: protobuf>=3.20.2 in c:\\users\\21tim\\anaconda3\\envs\\py37_its365\\lib\\site-packages (from onnx>=1.2.1->skl2onnx) (4.24.4)\n",
      "Requirement already satisfied: numpy in c:\\users\\21tim\\anaconda3\\envs\\py37_its365\\lib\\site-packages (from onnx>=1.2.1->skl2onnx) (1.21.6)\n",
      "Requirement already satisfied: typing-extensions>=3.6.2.1 in c:\\users\\21tim\\anaconda3\\envs\\py37_its365\\lib\\site-packages (from onnx>=1.2.1->skl2onnx) (4.7.1)\n",
      "Requirement already satisfied: packaging in c:\\users\\21tim\\anaconda3\\envs\\py37_its365\\lib\\site-packages (from onnxconverter-common>=1.7.0->skl2onnx) (24.0)\n",
      "Requirement already satisfied: threadpoolctl>=2.0.0 in c:\\users\\21tim\\anaconda3\\envs\\py37_its365\\lib\\site-packages (from scikit-learn>=0.19->skl2onnx) (3.1.0)\n",
      "Requirement already satisfied: joblib>=0.11 in c:\\users\\21tim\\anaconda3\\envs\\py37_its365\\lib\\site-packages (from scikit-learn>=0.19->skl2onnx) (1.3.2)\n",
      "Requirement already satisfied: scipy>=1.1.0 in c:\\users\\21tim\\anaconda3\\envs\\py37_its365\\lib\\site-packages (from scikit-learn>=0.19->skl2onnx) (1.7.3)\n",
      "Installing collected packages: skl2onnx\n",
      "Successfully installed skl2onnx-1.16.0\n"
     ]
    }
   ],
   "source": [
    "## !pip install mlxtend\n",
    "## !pip install onnxmltools\n",
    "## !pip install onnxruntime\n",
    "## !pip install torch torchvision\n",
    "## !pip install skl2onnx"
   ]
  },
  {
   "cell_type": "code",
   "execution_count": 4,
   "id": "06750275",
   "metadata": {},
   "outputs": [],
   "source": [
    "import numpy as np\n",
    "import torch\n",
    "import pandas as pd\n",
    "import sklearn\n",
    "import random\n",
    "\n",
    "import torch.nn as nn\n",
    "import torch.nn.functional as F\n",
    "import torch.optim as optim"
   ]
  },
  {
   "cell_type": "code",
   "execution_count": 46,
   "id": "38a4080c",
   "metadata": {},
   "outputs": [],
   "source": [
    "import matplotlib.pyplot as plt\n",
    "\n",
    "from mlxtend.plotting import heatmap\n",
    "from sklearn.model_selection import train_test_split\n",
    "from sklearn.preprocessing import LabelEncoder\n",
    "from torch.utils.data import TensorDataset, DataLoader\n",
    "\n",
    "## coefficient of determination \n",
    "from sklearn.metrics import r2_score"
   ]
  },
  {
   "cell_type": "code",
   "execution_count": null,
   "id": "23a457bd",
   "metadata": {},
   "outputs": [],
   "source": [
    "import xgboost as xgb"
   ]
  },
  {
   "cell_type": "code",
   "execution_count": 14,
   "id": "e258de5e",
   "metadata": {},
   "outputs": [],
   "source": [
    "import onnxruntime as rt\n",
    "import onnxmltools\n",
    "\n",
    "from skl2onnx.common.data_types import FloatTensorType"
   ]
  },
  {
   "cell_type": "code",
   "execution_count": null,
   "id": "9109ff85",
   "metadata": {},
   "outputs": [],
   "source": []
  },
  {
   "cell_type": "code",
   "execution_count": 15,
   "id": "eeeb9067",
   "metadata": {},
   "outputs": [],
   "source": [
    "## 0.001, 0.0001, 0.0003, 0.01, 0.03\n",
    "\n",
    "batch_size    = 32\n",
    "learning_rate = 0.005 ## 0.001\n",
    "N_Epochs      = 100\n",
    "\n",
    "epsilon = 0.0001"
   ]
  },
  {
   "cell_type": "code",
   "execution_count": null,
   "id": "d583f0f0",
   "metadata": {},
   "outputs": [],
   "source": []
  },
  {
   "cell_type": "code",
   "execution_count": 18,
   "id": "2c3933d4",
   "metadata": {},
   "outputs": [],
   "source": [
    "path_data = 'WeatherData.csv'\n",
    "\n",
    "Weather_raw_data = pd.read_csv( path_data, delimiter=\",\" )\n"
   ]
  },
  {
   "cell_type": "code",
   "execution_count": 19,
   "id": "81650822",
   "metadata": {},
   "outputs": [
    {
     "data": {
      "text/html": [
       "<div>\n",
       "<style scoped>\n",
       "    .dataframe tbody tr th:only-of-type {\n",
       "        vertical-align: middle;\n",
       "    }\n",
       "\n",
       "    .dataframe tbody tr th {\n",
       "        vertical-align: top;\n",
       "    }\n",
       "\n",
       "    .dataframe thead th {\n",
       "        text-align: right;\n",
       "    }\n",
       "</style>\n",
       "<table border=\"1\" class=\"dataframe\">\n",
       "  <thead>\n",
       "    <tr style=\"text-align: right;\">\n",
       "      <th></th>\n",
       "      <th>Location</th>\n",
       "      <th>Temperature_C</th>\n",
       "      <th>Humidity_pct</th>\n",
       "      <th>Wind_Speed_kmh</th>\n",
       "      <th>Date_Time</th>\n",
       "    </tr>\n",
       "  </thead>\n",
       "  <tbody>\n",
       "    <tr>\n",
       "      <th>0</th>\n",
       "      <td>Philadelphia</td>\n",
       "      <td>-8.63</td>\n",
       "      <td>54.07</td>\n",
       "      <td>26.37</td>\n",
       "      <td>2/26/2024 17:32</td>\n",
       "    </tr>\n",
       "    <tr>\n",
       "      <th>1</th>\n",
       "      <td>New York</td>\n",
       "      <td>-6.89</td>\n",
       "      <td>30.80</td>\n",
       "      <td>16.85</td>\n",
       "      <td>1/25/2024 19:04</td>\n",
       "    </tr>\n",
       "    <tr>\n",
       "      <th>2</th>\n",
       "      <td>New York</td>\n",
       "      <td>0.96</td>\n",
       "      <td>38.82</td>\n",
       "      <td>7.99</td>\n",
       "      <td>3/29/2024 5:20</td>\n",
       "    </tr>\n",
       "    <tr>\n",
       "      <th>3</th>\n",
       "      <td>New York</td>\n",
       "      <td>35.15</td>\n",
       "      <td>54.75</td>\n",
       "      <td>25.43</td>\n",
       "      <td>3/4/2024 13:47</td>\n",
       "    </tr>\n",
       "    <tr>\n",
       "      <th>4</th>\n",
       "      <td>Dallas</td>\n",
       "      <td>32.02</td>\n",
       "      <td>53.19</td>\n",
       "      <td>3.05</td>\n",
       "      <td>2/27/2024 21:07</td>\n",
       "    </tr>\n",
       "    <tr>\n",
       "      <th>...</th>\n",
       "      <td>...</td>\n",
       "      <td>...</td>\n",
       "      <td>...</td>\n",
       "      <td>...</td>\n",
       "      <td>...</td>\n",
       "    </tr>\n",
       "    <tr>\n",
       "      <th>495</th>\n",
       "      <td>Dallas</td>\n",
       "      <td>35.35</td>\n",
       "      <td>66.51</td>\n",
       "      <td>16.81</td>\n",
       "      <td>4/6/2024 3:57</td>\n",
       "    </tr>\n",
       "    <tr>\n",
       "      <th>496</th>\n",
       "      <td>Los Angeles</td>\n",
       "      <td>33.80</td>\n",
       "      <td>40.55</td>\n",
       "      <td>10.46</td>\n",
       "      <td>5/15/2024 4:28</td>\n",
       "    </tr>\n",
       "    <tr>\n",
       "      <th>497</th>\n",
       "      <td>Chicago</td>\n",
       "      <td>19.86</td>\n",
       "      <td>45.88</td>\n",
       "      <td>27.25</td>\n",
       "      <td>4/9/2024 4:35</td>\n",
       "    </tr>\n",
       "    <tr>\n",
       "      <th>498</th>\n",
       "      <td>Philadelphia</td>\n",
       "      <td>21.00</td>\n",
       "      <td>61.12</td>\n",
       "      <td>12.01</td>\n",
       "      <td>5/8/2024 5:39</td>\n",
       "    </tr>\n",
       "    <tr>\n",
       "      <th>499</th>\n",
       "      <td>Los Angeles</td>\n",
       "      <td>-3.04</td>\n",
       "      <td>49.09</td>\n",
       "      <td>28.33</td>\n",
       "      <td>2/6/2024 18:00</td>\n",
       "    </tr>\n",
       "  </tbody>\n",
       "</table>\n",
       "<p>500 rows × 5 columns</p>\n",
       "</div>"
      ],
      "text/plain": [
       "         Location  Temperature_C  Humidity_pct  Wind_Speed_kmh  \\\n",
       "0    Philadelphia          -8.63         54.07           26.37   \n",
       "1        New York          -6.89         30.80           16.85   \n",
       "2        New York           0.96         38.82            7.99   \n",
       "3        New York          35.15         54.75           25.43   \n",
       "4          Dallas          32.02         53.19            3.05   \n",
       "..            ...            ...           ...             ...   \n",
       "495        Dallas          35.35         66.51           16.81   \n",
       "496   Los Angeles          33.80         40.55           10.46   \n",
       "497       Chicago          19.86         45.88           27.25   \n",
       "498  Philadelphia          21.00         61.12           12.01   \n",
       "499   Los Angeles          -3.04         49.09           28.33   \n",
       "\n",
       "           Date_Time  \n",
       "0    2/26/2024 17:32  \n",
       "1    1/25/2024 19:04  \n",
       "2     3/29/2024 5:20  \n",
       "3     3/4/2024 13:47  \n",
       "4    2/27/2024 21:07  \n",
       "..               ...  \n",
       "495    4/6/2024 3:57  \n",
       "496   5/15/2024 4:28  \n",
       "497    4/9/2024 4:35  \n",
       "498    5/8/2024 5:39  \n",
       "499   2/6/2024 18:00  \n",
       "\n",
       "[500 rows x 5 columns]"
      ]
     },
     "execution_count": 19,
     "metadata": {},
     "output_type": "execute_result"
    }
   ],
   "source": [
    "\n",
    "Weather_raw_data"
   ]
  },
  {
   "cell_type": "code",
   "execution_count": 20,
   "id": "07a95ccc",
   "metadata": {},
   "outputs": [
    {
     "data": {
      "text/plain": [
       "['Location', 'Temperature_C', 'Humidity_pct', 'Wind_Speed_kmh', 'Date_Time']"
      ]
     },
     "execution_count": 20,
     "metadata": {},
     "output_type": "execute_result"
    }
   ],
   "source": [
    "headers_list = Weather_raw_data.columns.values.tolist()\n",
    "\n",
    "headers_list\n"
   ]
  },
  {
   "cell_type": "code",
   "execution_count": null,
   "id": "f29e5a66",
   "metadata": {},
   "outputs": [],
   "source": []
  },
  {
   "cell_type": "code",
   "execution_count": null,
   "id": "1f860826",
   "metadata": {},
   "outputs": [],
   "source": []
  },
  {
   "cell_type": "code",
   "execution_count": 22,
   "id": "e5faf9a4",
   "metadata": {},
   "outputs": [],
   "source": [
    "Weather_raw_data_np = Weather_raw_data.to_numpy()"
   ]
  },
  {
   "cell_type": "code",
   "execution_count": 23,
   "id": "65facc09",
   "metadata": {},
   "outputs": [
    {
     "data": {
      "text/plain": [
       "array([['Philadelphia', -8.63, 54.07, 26.37, '2/26/2024 17:32'],\n",
       "       ['New York', -6.89, 30.8, 16.85, '1/25/2024 19:04'],\n",
       "       ['New York', 0.96, 38.82, 7.99, '3/29/2024 5:20'],\n",
       "       ...,\n",
       "       ['Chicago', 19.86, 45.88, 27.25, '4/9/2024 4:35'],\n",
       "       ['Philadelphia', 21.0, 61.12, 12.01, '5/8/2024 5:39'],\n",
       "       ['Los Angeles', -3.04, 49.09, 28.33, '2/6/2024 18:00']],\n",
       "      dtype=object)"
      ]
     },
     "execution_count": 23,
     "metadata": {},
     "output_type": "execute_result"
    }
   ],
   "source": [
    "Weather_raw_data_np"
   ]
  },
  {
   "cell_type": "code",
   "execution_count": 24,
   "id": "e36d5e99",
   "metadata": {},
   "outputs": [
    {
     "data": {
      "text/plain": [
       "(500, 5)"
      ]
     },
     "execution_count": 24,
     "metadata": {},
     "output_type": "execute_result"
    }
   ],
   "source": [
    "Weather_raw_data_np.shape"
   ]
  },
  {
   "cell_type": "code",
   "execution_count": 110,
   "id": "248bba4d",
   "metadata": {},
   "outputs": [],
   "source": [
    "X = Weather_raw_data_np[:, 1:4]     \n",
    "y = Weather_raw_data_np[:, 0]\n",
    "time_column = Weather_raw_data_np[:, 4]"
   ]
  },
  {
   "cell_type": "code",
   "execution_count": 111,
   "id": "fdb12b2a",
   "metadata": {},
   "outputs": [
    {
     "data": {
      "text/plain": [
       "array(['Philadelphia', 'New York', 'New York', 'New York', 'Dallas',\n",
       "       'Philadelphia', 'Chicago', 'New York', 'New York', 'Los Angeles',\n",
       "       'New York', 'Dallas', 'Chicago', 'Philadelphia', 'Dallas',\n",
       "       'Philadelphia', 'Chicago', 'New York', 'Dallas', 'New York',\n",
       "       'Philadelphia', 'Chicago', 'Chicago', 'Philadelphia', 'New York',\n",
       "       'New York', 'Philadelphia', 'Chicago', 'Dallas', 'Los Angeles',\n",
       "       'Chicago', 'Los Angeles', 'New York', 'New York', 'New York',\n",
       "       'Los Angeles', 'Dallas', 'Dallas', 'Chicago', 'Philadelphia',\n",
       "       'Los Angeles', 'Dallas', 'Los Angeles', 'Los Angeles',\n",
       "       'Philadelphia', 'Philadelphia', 'Chicago', 'Philadelphia',\n",
       "       'Chicago', 'Chicago', 'New York', 'Dallas', 'New York', 'Dallas',\n",
       "       'Dallas', 'Los Angeles', 'New York', 'Chicago', 'Los Angeles',\n",
       "       'Los Angeles', 'Chicago', 'Dallas', 'Chicago', 'Philadelphia',\n",
       "       'Dallas', 'Los Angeles', 'Dallas', 'Chicago', 'Los Angeles',\n",
       "       'Philadelphia', 'Los Angeles', 'Philadelphia', 'Dallas', 'Chicago',\n",
       "       'Los Angeles', 'New York', 'Dallas', 'Philadelphia', 'Los Angeles',\n",
       "       'Dallas', 'Los Angeles', 'Philadelphia', 'Dallas', 'Philadelphia',\n",
       "       'Los Angeles', 'Philadelphia', 'Philadelphia', 'Los Angeles',\n",
       "       'Los Angeles', 'Los Angeles', 'Chicago', 'New York', 'Dallas',\n",
       "       'New York', 'Chicago', 'Chicago', 'Los Angeles', 'Philadelphia',\n",
       "       'Philadelphia', 'Dallas', 'Los Angeles', 'Dallas', 'Los Angeles',\n",
       "       'Dallas', 'Los Angeles', 'Philadelphia', 'Los Angeles', 'Dallas',\n",
       "       'Los Angeles', 'Los Angeles', 'Los Angeles', 'Los Angeles',\n",
       "       'Philadelphia', 'Dallas', 'Chicago', 'Los Angeles', 'Dallas',\n",
       "       'Chicago', 'Chicago', 'Los Angeles', 'Philadelphia', 'Chicago',\n",
       "       'Philadelphia', 'Dallas', 'Los Angeles', 'Los Angeles',\n",
       "       'Los Angeles', 'New York', 'Philadelphia', 'New York',\n",
       "       'Los Angeles', 'Chicago', 'Los Angeles', 'Philadelphia', 'Chicago',\n",
       "       'Chicago', 'Philadelphia', 'Los Angeles', 'New York', 'Chicago',\n",
       "       'Chicago', 'Chicago', 'New York', 'Dallas', 'Los Angeles',\n",
       "       'Dallas', 'Philadelphia', 'Chicago', 'Chicago', 'Los Angeles',\n",
       "       'Los Angeles', 'New York', 'Chicago', 'Philadelphia',\n",
       "       'Los Angeles', 'New York', 'Dallas', 'Dallas', 'Philadelphia',\n",
       "       'Chicago', 'Dallas', 'Dallas', 'Dallas', 'Los Angeles', 'Chicago',\n",
       "       'Dallas', 'Los Angeles', 'Dallas', 'Chicago', 'Dallas', 'New York',\n",
       "       'New York', 'Chicago', 'New York', 'New York', 'New York',\n",
       "       'Dallas', 'Philadelphia', 'New York', 'Dallas', 'Los Angeles',\n",
       "       'Philadelphia', 'New York', 'Dallas', 'New York', 'Philadelphia',\n",
       "       'Chicago', 'Philadelphia', 'New York', 'Chicago', 'Dallas',\n",
       "       'Philadelphia', 'Los Angeles', 'Philadelphia', 'Chicago',\n",
       "       'Los Angeles', 'Los Angeles', 'Chicago', 'Chicago', 'New York',\n",
       "       'Dallas', 'Dallas', 'Chicago', 'Philadelphia', 'Dallas', 'Chicago',\n",
       "       'Chicago', 'Dallas', 'Philadelphia', 'New York', 'Chicago',\n",
       "       'Chicago', 'Los Angeles', 'New York', 'Philadelphia', 'Dallas',\n",
       "       'Dallas', 'Chicago', 'Philadelphia', 'Chicago', 'Los Angeles',\n",
       "       'Los Angeles', 'Los Angeles', 'New York', 'Philadelphia',\n",
       "       'Los Angeles', 'Philadelphia', 'Dallas', 'Philadelphia', 'Chicago',\n",
       "       'Philadelphia', 'Dallas', 'Los Angeles', 'Philadelphia', 'Dallas',\n",
       "       'Dallas', 'Philadelphia', 'Philadelphia', 'Philadelphia',\n",
       "       'New York', 'Philadelphia', 'Los Angeles', 'Los Angeles',\n",
       "       'New York', 'New York', 'Los Angeles', 'Dallas', 'Chicago',\n",
       "       'Los Angeles', 'Chicago', 'New York', 'Los Angeles', 'Chicago',\n",
       "       'New York', 'Chicago', 'Dallas', 'New York', 'Philadelphia',\n",
       "       'Philadelphia', 'Los Angeles', 'New York', 'Philadelphia',\n",
       "       'Dallas', 'Los Angeles', 'New York', 'New York', 'Philadelphia',\n",
       "       'Dallas', 'Philadelphia', 'Philadelphia', 'Chicago', 'New York',\n",
       "       'Chicago', 'Los Angeles', 'Chicago', 'Los Angeles', 'New York',\n",
       "       'New York', 'Los Angeles', 'Philadelphia', 'New York', 'Chicago',\n",
       "       'Dallas', 'Philadelphia', 'New York', 'New York', 'Chicago',\n",
       "       'New York', 'Philadelphia', 'Philadelphia', 'Philadelphia',\n",
       "       'New York', 'New York', 'New York', 'Dallas', 'New York',\n",
       "       'Chicago', 'Chicago', 'Chicago', 'New York', 'New York', 'Chicago',\n",
       "       'New York', 'Dallas', 'New York', 'Chicago', 'Los Angeles',\n",
       "       'Los Angeles', 'New York', 'Dallas', 'New York', 'Chicago',\n",
       "       'Dallas', 'Dallas', 'Philadelphia', 'Chicago', 'Los Angeles',\n",
       "       'Los Angeles', 'Philadelphia', 'Chicago', 'Philadelphia', 'Dallas',\n",
       "       'New York', 'Chicago', 'New York', 'Philadelphia', 'Philadelphia',\n",
       "       'Chicago', 'Los Angeles', 'Philadelphia', 'Chicago', 'New York',\n",
       "       'New York', 'Dallas', 'Dallas', 'Dallas', 'Los Angeles', 'Dallas',\n",
       "       'Los Angeles', 'Philadelphia', 'Los Angeles', 'Dallas', 'Chicago',\n",
       "       'Philadelphia', 'Chicago', 'Chicago', 'Chicago', 'Los Angeles',\n",
       "       'Chicago', 'Philadelphia', 'Philadelphia', 'Philadelphia',\n",
       "       'New York', 'New York', 'Dallas', 'New York', 'Dallas', 'Chicago',\n",
       "       'Chicago', 'Los Angeles', 'Los Angeles', 'Los Angeles', 'New York',\n",
       "       'Philadelphia', 'Chicago', 'New York', 'Dallas', 'Dallas',\n",
       "       'New York', 'Chicago', 'Dallas', 'Philadelphia', 'Philadelphia',\n",
       "       'Chicago', 'Los Angeles', 'Dallas', 'Dallas', 'Los Angeles',\n",
       "       'Dallas', 'Los Angeles', 'New York', 'Dallas', 'New York',\n",
       "       'Dallas', 'New York', 'Dallas', 'New York', 'Philadelphia',\n",
       "       'Dallas', 'Los Angeles', 'Dallas', 'New York', 'Los Angeles',\n",
       "       'New York', 'Los Angeles', 'Dallas', 'Dallas', 'Los Angeles',\n",
       "       'New York', 'Dallas', 'Philadelphia', 'Dallas', 'Los Angeles',\n",
       "       'Dallas', 'New York', 'New York', 'Dallas', 'New York', 'Chicago',\n",
       "       'Chicago', 'Philadelphia', 'New York', 'New York', 'Philadelphia',\n",
       "       'New York', 'New York', 'New York', 'Chicago', 'Chicago',\n",
       "       'Philadelphia', 'Chicago', 'Philadelphia', 'Chicago',\n",
       "       'Philadelphia', 'New York', 'Los Angeles', 'Chicago', 'Dallas',\n",
       "       'Dallas', 'Philadelphia', 'Dallas', 'Chicago', 'Los Angeles',\n",
       "       'New York', 'Los Angeles', 'Philadelphia', 'New York', 'Dallas',\n",
       "       'New York', 'New York', 'Dallas', 'Philadelphia', 'Philadelphia',\n",
       "       'Los Angeles', 'Dallas', 'Philadelphia', 'Dallas', 'Philadelphia',\n",
       "       'Chicago', 'New York', 'Philadelphia', 'Dallas', 'Chicago',\n",
       "       'Chicago', 'Philadelphia', 'Chicago', 'Chicago', 'Los Angeles',\n",
       "       'Dallas', 'Los Angeles', 'Philadelphia', 'Los Angeles',\n",
       "       'Philadelphia', 'Philadelphia', 'Los Angeles', 'Los Angeles',\n",
       "       'Chicago', 'Philadelphia', 'Los Angeles', 'Philadelphia',\n",
       "       'Philadelphia', 'Chicago', 'Dallas', 'Chicago', 'Philadelphia',\n",
       "       'Dallas', 'Philadelphia', 'Los Angeles', 'Dallas', 'Chicago',\n",
       "       'Chicago', 'Chicago', 'Los Angeles', 'Chicago', 'New York',\n",
       "       'Dallas', 'New York', 'Los Angeles', 'New York', 'New York',\n",
       "       'Dallas', 'New York', 'Los Angeles', 'Los Angeles', 'Philadelphia',\n",
       "       'Dallas', 'Los Angeles', 'Chicago', 'Philadelphia', 'Los Angeles'],\n",
       "      dtype=object)"
      ]
     },
     "execution_count": 111,
     "metadata": {},
     "output_type": "execute_result"
    }
   ],
   "source": [
    "\n",
    "y"
   ]
  },
  {
   "cell_type": "code",
   "execution_count": null,
   "id": "bcc4df71",
   "metadata": {},
   "outputs": [],
   "source": []
  },
  {
   "cell_type": "code",
   "execution_count": 112,
   "id": "7bd776a8",
   "metadata": {},
   "outputs": [
    {
     "name": "stdout",
     "output_type": "stream",
     "text": [
      "(500, 3)\n",
      "(500,)\n"
     ]
    }
   ],
   "source": [
    "print(X.shape)\n",
    "\n",
    "print(y.shape)\n",
    "\n",
    "encoder = LabelEncoder()\n",
    "y_encoder = encoder.fit_transform(y) "
   ]
  },
  {
   "cell_type": "code",
   "execution_count": 113,
   "id": "eeea13c5",
   "metadata": {},
   "outputs": [],
   "source": [
    "random_seed = int( random.random() * 100 )     ## 42"
   ]
  },
  {
   "cell_type": "code",
   "execution_count": 114,
   "id": "9e57c17b",
   "metadata": {},
   "outputs": [],
   "source": [
    "X_train, X_test, y_train, y_test = train_test_split(X, y_encoder, test_size=0.2, random_state=random_seed)"
   ]
  },
  {
   "cell_type": "code",
   "execution_count": 115,
   "id": "03436019",
   "metadata": {},
   "outputs": [
    {
     "name": "stdout",
     "output_type": "stream",
     "text": [
      "(400, 3)\n",
      "(100, 3)\n",
      "(400,)\n",
      "(100,)\n"
     ]
    }
   ],
   "source": [
    "print(X_train.shape)\n",
    "print(X_test.shape)\n",
    "print(y_train.shape)\n",
    "print(y_test.shape)"
   ]
  },
  {
   "cell_type": "code",
   "execution_count": 203,
   "id": "81cd65d5",
   "metadata": {},
   "outputs": [
    {
     "data": {
      "text/plain": [
       "dtype('float32')"
      ]
     },
     "execution_count": 203,
     "metadata": {},
     "output_type": "execute_result"
    }
   ],
   "source": [
    "y_train.dtype "
   ]
  },
  {
   "cell_type": "code",
   "execution_count": null,
   "id": "0b4ecc4e",
   "metadata": {},
   "outputs": [],
   "source": []
  },
  {
   "cell_type": "code",
   "execution_count": 124,
   "id": "6ec0113d",
   "metadata": {},
   "outputs": [],
   "source": [
    "X_train = X_train.astype(  np.float32  )\n",
    "X_test  = X_test.astype(   np.float32  )\n",
    "y_train = y_train.astype(  np.float32  )\n",
    "y_test  = y_test.astype(   np.float32  )"
   ]
  },
  {
   "cell_type": "code",
   "execution_count": 125,
   "id": "cb115bdd",
   "metadata": {},
   "outputs": [],
   "source": [
    "X_train_tr = torch.from_numpy(X_train)\n",
    "X_test_tr  = torch.from_numpy(X_test)\n",
    "y_train_tr = torch.from_numpy(y_train)\n",
    "y_test_tr  = torch.from_numpy(y_test)"
   ]
  },
  {
   "cell_type": "code",
   "execution_count": null,
   "id": "42f0a120",
   "metadata": {},
   "outputs": [],
   "source": []
  },
  {
   "cell_type": "code",
   "execution_count": 126,
   "id": "d0ee2c90",
   "metadata": {},
   "outputs": [],
   "source": [
    "x_means      = X_train_tr.mean(0, keepdim=True ) \n",
    "\n",
    "x_deviations = X_train_tr.std( 0, keepdim=True) + epsilon"
   ]
  },
  {
   "cell_type": "code",
   "execution_count": 127,
   "id": "6d3c8584",
   "metadata": {},
   "outputs": [
    {
     "data": {
      "text/plain": [
       "tensor([[13.8017, 57.9944, 14.9805]])"
      ]
     },
     "execution_count": 127,
     "metadata": {},
     "output_type": "execute_result"
    }
   ],
   "source": [
    "x_means\n"
   ]
  },
  {
   "cell_type": "code",
   "execution_count": 128,
   "id": "8bb92111",
   "metadata": {},
   "outputs": [
    {
     "data": {
      "text/plain": [
       "tensor([[14.5332, 18.1744,  8.7409]])"
      ]
     },
     "execution_count": 128,
     "metadata": {},
     "output_type": "execute_result"
    }
   ],
   "source": [
    "x_deviations"
   ]
  },
  {
   "cell_type": "code",
   "execution_count": null,
   "id": "c1473c3f",
   "metadata": {},
   "outputs": [],
   "source": []
  },
  {
   "cell_type": "code",
   "execution_count": 129,
   "id": "3e58ec10",
   "metadata": {},
   "outputs": [],
   "source": [
    "train_ds = TensorDataset( X_train_tr, y_train_tr  )"
   ]
  },
  {
   "cell_type": "code",
   "execution_count": 130,
   "id": "bbbdb545",
   "metadata": {},
   "outputs": [],
   "source": [
    "train_dl = DataLoader( train_ds, batch_size, shuffle=True  )"
   ]
  },
  {
   "cell_type": "code",
   "execution_count": 131,
   "id": "1edd7921",
   "metadata": {},
   "outputs": [
    {
     "data": {
      "text/plain": [
       "<torch.utils.data.dataloader.DataLoader at 0x168234b2f88>"
      ]
     },
     "execution_count": 131,
     "metadata": {},
     "output_type": "execute_result"
    }
   ],
   "source": [
    "train_dl"
   ]
  },
  {
   "cell_type": "code",
   "execution_count": null,
   "id": "bfecc504",
   "metadata": {},
   "outputs": [],
   "source": []
  },
  {
   "cell_type": "code",
   "execution_count": 132,
   "id": "174b1858",
   "metadata": {},
   "outputs": [],
   "source": [
    "import torch\n",
    "import torch.nn as nn\n",
    "\n",
    "class DL_Net(nn.Module):\n",
    "    ## init the class\n",
    "    def __init__(self, x_means, x_deviations):\n",
    "        super().__init__()\n",
    "        \n",
    "        self.x_means      = x_means\n",
    "        self.x_deviations = x_deviations\n",
    "        \n",
    "        self.linear1 = nn.Linear(3, 10)  # Input size is 3\n",
    "        self.act1    = nn.ReLU()\n",
    "        self.linear2 = nn.Linear(10, 6)\n",
    "        self.act2    = nn.ReLU()\n",
    "        self.linear3 = nn.Linear(6, 1)  # Output size is 1 for regression\n",
    "        self.dropout = nn.Dropout(0.25)\n",
    "        \n",
    "    ## perform inference\n",
    "    def forward(self, x):\n",
    "        x = (x - self.x_means) / self.x_deviations  # Standardizing input\n",
    "        \n",
    "        x = self.linear1(x)\n",
    "        x = self.act1(x)\n",
    "        x = self.linear2(x)\n",
    "        x = self.act2(x)\n",
    "        # x = self.dropout(x)\n",
    "        y_pred = self.linear3(x)\n",
    "        \n",
    "        \n",
    "        return y_pred\n"
   ]
  },
  {
   "cell_type": "code",
   "execution_count": null,
   "id": "23401df4",
   "metadata": {},
   "outputs": [],
   "source": []
  },
  {
   "cell_type": "code",
   "execution_count": 133,
   "id": "96f1f7b6",
   "metadata": {},
   "outputs": [],
   "source": [
    "def training_loop( N_Epochs, model, loss_fn, opt  ):\n",
    "    \n",
    "    for epoch in range(N_Epochs):\n",
    "        for xb, yb in train_dl:\n",
    "            \n",
    "            y_pred = model(xb)\n",
    "            loss   = loss_fn(y_pred, yb)\n",
    "            \n",
    "            opt.zero_grad()\n",
    "            loss.backward()\n",
    "            opt.step()\n",
    "            \n",
    "        if epoch % 20 == 0:\n",
    "            print(epoch, \"loss=\", loss)\n",
    "            \n",
    "        "
   ]
  },
  {
   "cell_type": "code",
   "execution_count": null,
   "id": "fcdc1b92",
   "metadata": {},
   "outputs": [],
   "source": []
  },
  {
   "cell_type": "code",
   "execution_count": null,
   "id": "2cf67ae4",
   "metadata": {},
   "outputs": [],
   "source": []
  },
  {
   "cell_type": "code",
   "execution_count": 134,
   "id": "5eb16e76",
   "metadata": {},
   "outputs": [
    {
     "name": "stderr",
     "output_type": "stream",
     "text": [
      "C:\\Users\\21tim\\anaconda3\\envs\\py37_ITS365\\lib\\site-packages\\ipykernel_launcher.py:7: UserWarning: Using a target size (torch.Size([16])) that is different to the input size (torch.Size([16, 1])). This will likely lead to incorrect results due to broadcasting. Please ensure they have the same size.\n",
      "  import sys\n"
     ]
    },
    {
     "name": "stdout",
     "output_type": "stream",
     "text": [
      "0 loss= tensor(2.4635, grad_fn=<MseLossBackward0>)\n",
      "20 loss= tensor(1.3135, grad_fn=<MseLossBackward0>)\n",
      "40 loss= tensor(1.8857, grad_fn=<MseLossBackward0>)\n",
      "60 loss= tensor(1.6257, grad_fn=<MseLossBackward0>)\n",
      "80 loss= tensor(1.9558, grad_fn=<MseLossBackward0>)\n"
     ]
    }
   ],
   "source": [
    "model = DL_Net( x_means, x_deviations  )\n",
    "\n",
    "opt     = torch.optim.Adam(    model.parameters(), lr=learning_rate )\n",
    "loss_fn = F.mse_loss\n",
    "\n",
    "training_loop(  N_Epochs, model, loss_fn, opt  )"
   ]
  },
  {
   "cell_type": "code",
   "execution_count": null,
   "id": "4a28cb2a",
   "metadata": {},
   "outputs": [],
   "source": []
  },
  {
   "cell_type": "code",
   "execution_count": 135,
   "id": "e277f1ef",
   "metadata": {},
   "outputs": [],
   "source": [
    "y_pred_test = model( X_test_tr )"
   ]
  },
  {
   "cell_type": "code",
   "execution_count": 136,
   "id": "2f5c75f5",
   "metadata": {},
   "outputs": [
    {
     "data": {
      "text/plain": [
       "torch.Size([100, 1])"
      ]
     },
     "execution_count": 136,
     "metadata": {},
     "output_type": "execute_result"
    }
   ],
   "source": [
    "y_pred_test.shape\n",
    "## y_pred_test"
   ]
  },
  {
   "cell_type": "code",
   "execution_count": 137,
   "id": "7ba751cf",
   "metadata": {},
   "outputs": [
    {
     "name": "stdout",
     "output_type": "stream",
     "text": [
      "Testing R**2:  -0.005849751646710866\n"
     ]
    }
   ],
   "source": [
    "print( \"Testing R**2: \", r2_score(  y_test_tr.numpy(),  y_pred_test.detach().numpy()     )  )"
   ]
  },
  {
   "cell_type": "code",
   "execution_count": 138,
   "id": "441a04c8",
   "metadata": {},
   "outputs": [
    {
     "data": {
      "text/plain": [
       "torch.Size([100, 1])"
      ]
     },
     "execution_count": 138,
     "metadata": {},
     "output_type": "execute_result"
    }
   ],
   "source": [
    "y_pred_test.shape"
   ]
  },
  {
   "cell_type": "code",
   "execution_count": 139,
   "id": "9f2a3b6b",
   "metadata": {},
   "outputs": [
    {
     "data": {
      "text/plain": [
       "torch.Size([100])"
      ]
     },
     "execution_count": 139,
     "metadata": {},
     "output_type": "execute_result"
    }
   ],
   "source": [
    "y_test_tr.shape\n",
    "y = "
   ]
  },
  {
   "cell_type": "code",
   "execution_count": 140,
   "id": "30c7e4fd",
   "metadata": {},
   "outputs": [
    {
     "data": {
      "text/plain": [
       "100"
      ]
     },
     "execution_count": 140,
     "metadata": {},
     "output_type": "execute_result"
    }
   ],
   "source": [
    "len(X_test_tr)"
   ]
  },
  {
   "cell_type": "code",
   "execution_count": 142,
   "id": "0107305f",
   "metadata": {},
   "outputs": [
    {
     "name": "stdout",
     "output_type": "stream",
     "text": [
      "************************************\n",
      "pred, real\n",
      "(array([2.0497344], dtype=float32), array(4., dtype=float32))\n"
     ]
    },
    {
     "ename": "IndexError",
     "evalue": "too many indices for array: array is 0-dimensional, but 1 were indexed",
     "output_type": "error",
     "traceback": [
      "\u001b[1;31m---------------------------------------------------------------------------\u001b[0m",
      "\u001b[1;31mIndexError\u001b[0m                                Traceback (most recent call last)",
      "\u001b[1;32m~\\AppData\\Local\\Temp\\ipykernel_18684\\4239007359.py\u001b[0m in \u001b[0;36m<module>\u001b[1;34m\u001b[0m\n\u001b[0;32m     12\u001b[0m \u001b[1;33m\u001b[0m\u001b[0m\n\u001b[0;32m     13\u001b[0m     \u001b[0mlist_preds\u001b[0m\u001b[1;33m.\u001b[0m\u001b[0mappend\u001b[0m\u001b[1;33m(\u001b[0m\u001b[0mnp_pred\u001b[0m\u001b[1;33m[\u001b[0m\u001b[1;36m0\u001b[0m\u001b[1;33m]\u001b[0m\u001b[1;33m)\u001b[0m  \u001b[1;31m# Access the first element\u001b[0m\u001b[1;33m\u001b[0m\u001b[1;33m\u001b[0m\u001b[0m\n\u001b[1;32m---> 14\u001b[1;33m     \u001b[0mlist_reals\u001b[0m\u001b[1;33m.\u001b[0m\u001b[0mappend\u001b[0m\u001b[1;33m(\u001b[0m\u001b[0mnp_real\u001b[0m\u001b[1;33m[\u001b[0m\u001b[1;36m0\u001b[0m\u001b[1;33m]\u001b[0m\u001b[1;33m)\u001b[0m  \u001b[1;31m# Access the first element\u001b[0m\u001b[1;33m\u001b[0m\u001b[1;33m\u001b[0m\u001b[0m\n\u001b[0m",
      "\u001b[1;31mIndexError\u001b[0m: too many indices for array: array is 0-dimensional, but 1 were indexed"
     ]
    }
   ],
   "source": [
    "list_preds = []\n",
    "list_reals = []\n",
    "\n",
    "for i in range(len(X_test_tr)):\n",
    "    print(\"************************************\")\n",
    "    print(\"pred, real\")\n",
    "    np_real =   y_test_tr[i].detach().numpy()\n",
    "    np_pred = y_pred_test[i].detach().numpy()\n",
    "    print(( np_pred  , np_real))\n",
    "    list_preds.append(np_pred[0])\n",
    "    list_reals.append(np_real[0])"
   ]
  },
  {
   "cell_type": "code",
   "execution_count": null,
   "id": "ae74f248",
   "metadata": {},
   "outputs": [],
   "source": []
  },
  {
   "cell_type": "code",
   "execution_count": null,
   "id": "e35b329b",
   "metadata": {},
   "outputs": [],
   "source": [
    "model.eval()\n",
    "\n",
    "dummy_input = torch.randn(1, 3)\n",
    "\n",
    "input_names  = [\"input1\"]\n",
    "output_names = [\"output1\"]\n",
    "\n",
    "torch.onnx.export(\n",
    "        model, \n",
    "        dummy_input,\n",
    "        \"DLnet_WeatherData.onnx\",\n",
    "        verbose=False,\n",
    "        input_names = input_names,\n",
    "        output_names = output_names\n",
    ")"
   ]
  }
 ],
 "metadata": {
  "kernelspec": {
   "display_name": "Python 3 (ipykernel)",
   "language": "python",
   "name": "python3"
  },
  "language_info": {
   "codemirror_mode": {
    "name": "ipython",
    "version": 3
   },
   "file_extension": ".py",
   "mimetype": "text/x-python",
   "name": "python",
   "nbconvert_exporter": "python",
   "pygments_lexer": "ipython3",
   "version": "3.7.16"
  }
 },
 "nbformat": 4,
 "nbformat_minor": 5
}
