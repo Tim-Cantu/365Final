{
 "cells": [
  {
   "cell_type": "code",
   "execution_count": 13,
   "id": "7ce5f462",
   "metadata": {},
   "outputs": [
    {
     "name": "stdout",
     "output_type": "stream",
     "text": [
      "Collecting skl2onnx\n",
      "  Downloading skl2onnx-1.18.0-py2.py3-none-any.whl (300 kB)\n",
      "     -------------------------------------- 300.3/300.3 kB 1.2 MB/s eta 0:00:00\n",
      "Requirement already satisfied: onnxconverter-common>=1.7.0 in c:\\users\\21tim\\anaconda3\\envs\\py37_its365\\lib\\site-packages (from skl2onnx) (1.13.0)\n",
      "Requirement already satisfied: onnx>=1.2.1 in c:\\users\\21tim\\anaconda3\\envs\\py37_its365\\lib\\site-packages (from skl2onnx) (1.14.1)\n",
      "  Downloading skl2onnx-1.17.0-py2.py3-none-any.whl (298 kB)\n",
      "     ------------------------------------ 298.4/298.4 kB 878.6 kB/s eta 0:00:00\n",
      "  Downloading skl2onnx-1.16.0-py2.py3-none-any.whl (298 kB)\n",
      "     -------------------------------------- 298.5/298.5 kB 1.1 MB/s eta 0:00:00\n",
      "Requirement already satisfied: scikit-learn>=0.19 in c:\\users\\21tim\\anaconda3\\envs\\py37_its365\\lib\\site-packages (from skl2onnx) (1.0.2)\n",
      "Requirement already satisfied: protobuf>=3.20.2 in c:\\users\\21tim\\anaconda3\\envs\\py37_its365\\lib\\site-packages (from onnx>=1.2.1->skl2onnx) (4.24.4)\n",
      "Requirement already satisfied: numpy in c:\\users\\21tim\\anaconda3\\envs\\py37_its365\\lib\\site-packages (from onnx>=1.2.1->skl2onnx) (1.21.6)\n",
      "Requirement already satisfied: typing-extensions>=3.6.2.1 in c:\\users\\21tim\\anaconda3\\envs\\py37_its365\\lib\\site-packages (from onnx>=1.2.1->skl2onnx) (4.7.1)\n",
      "Requirement already satisfied: packaging in c:\\users\\21tim\\anaconda3\\envs\\py37_its365\\lib\\site-packages (from onnxconverter-common>=1.7.0->skl2onnx) (24.0)\n",
      "Requirement already satisfied: threadpoolctl>=2.0.0 in c:\\users\\21tim\\anaconda3\\envs\\py37_its365\\lib\\site-packages (from scikit-learn>=0.19->skl2onnx) (3.1.0)\n",
      "Requirement already satisfied: joblib>=0.11 in c:\\users\\21tim\\anaconda3\\envs\\py37_its365\\lib\\site-packages (from scikit-learn>=0.19->skl2onnx) (1.3.2)\n",
      "Requirement already satisfied: scipy>=1.1.0 in c:\\users\\21tim\\anaconda3\\envs\\py37_its365\\lib\\site-packages (from scikit-learn>=0.19->skl2onnx) (1.7.3)\n",
      "Installing collected packages: skl2onnx\n",
      "Successfully installed skl2onnx-1.16.0\n"
     ]
    }
   ],
   "source": [
    "## !pip install mlxtend\n",
    "## !pip install onnxmltools\n",
    "## !pip install onnxruntime\n",
    "## !pip install torch torchvision\n",
    "## !pip install skl2onnx"
   ]
  },
  {
   "cell_type": "code",
   "execution_count": 204,
   "id": "06750275",
   "metadata": {},
   "outputs": [],
   "source": [
    "import numpy as np\n",
    "import torch\n",
    "import pandas as pd\n",
    "import random\n",
    "import matplotlib.pyplot as plt\n",
    "\n",
    "import torch.nn as nn\n",
    "import torch.nn.functional as F\n",
    "import torch.optim as optim"
   ]
  },
  {
   "cell_type": "code",
   "execution_count": 205,
   "id": "38a4080c",
   "metadata": {},
   "outputs": [],
   "source": [
    "import matplotlib.pyplot as plt\n",
    "\n",
    "from sklearn.model_selection import train_test_split\n",
    "from sklearn.preprocessing import LabelEncoder\n",
    "from sklearn.metrics import accuracy_score, f1_score, precision_score, recall_score, confusion_matrix\n",
    "from torch.utils.data import TensorDataset, DataLoader"
   ]
  },
  {
   "cell_type": "code",
   "execution_count": 206,
   "id": "23a457bd",
   "metadata": {},
   "outputs": [
    {
     "ename": "ModuleNotFoundError",
     "evalue": "No module named 'xgboost'",
     "output_type": "error",
     "traceback": [
      "\u001b[1;31m---------------------------------------------------------------------------\u001b[0m",
      "\u001b[1;31mModuleNotFoundError\u001b[0m                       Traceback (most recent call last)",
      "\u001b[1;32m~\\AppData\\Local\\Temp\\ipykernel_18684\\2785909336.py\u001b[0m in \u001b[0;36m<module>\u001b[1;34m\u001b[0m\n\u001b[1;32m----> 1\u001b[1;33m \u001b[1;32mimport\u001b[0m \u001b[0mxgboost\u001b[0m \u001b[1;32mas\u001b[0m \u001b[0mxgb\u001b[0m\u001b[1;33m\u001b[0m\u001b[1;33m\u001b[0m\u001b[0m\n\u001b[0m",
      "\u001b[1;31mModuleNotFoundError\u001b[0m: No module named 'xgboost'"
     ]
    }
   ],
   "source": [
    "import xgboost as xgb"
   ]
  },
  {
   "cell_type": "code",
   "execution_count": 207,
   "id": "e258de5e",
   "metadata": {},
   "outputs": [],
   "source": [
    "import onnxruntime as rt\n",
    "import onnxmltools\n",
    "\n",
    "from skl2onnx.common.data_types import FloatTensorType"
   ]
  },
  {
   "cell_type": "code",
   "execution_count": null,
   "id": "9109ff85",
   "metadata": {},
   "outputs": [],
   "source": []
  },
  {
   "cell_type": "code",
   "execution_count": 309,
   "id": "eeeb9067",
   "metadata": {},
   "outputs": [],
   "source": [
    "## 0.001, 0.0001, 0.0003, 0.01, 0.03\n",
    "\n",
    "batch_size    = 32\n",
    "learning_rate = 0.001 ## 0.001\n",
    "N_Epochs      = 100\n",
    "\n",
    "epsilon = 0.0001"
   ]
  },
  {
   "cell_type": "code",
   "execution_count": null,
   "id": "d583f0f0",
   "metadata": {},
   "outputs": [],
   "source": []
  },
  {
   "cell_type": "code",
   "execution_count": 310,
   "id": "2c3933d4",
   "metadata": {},
   "outputs": [],
   "source": [
    "path_data = 'WeatherData.csv'\n",
    "\n",
    "Weather_raw_data = pd.read_csv( path_data, delimiter=\",\" )\n"
   ]
  },
  {
   "cell_type": "code",
   "execution_count": 311,
   "id": "81650822",
   "metadata": {},
   "outputs": [
    {
     "data": {
      "text/html": [
       "<div>\n",
       "<style scoped>\n",
       "    .dataframe tbody tr th:only-of-type {\n",
       "        vertical-align: middle;\n",
       "    }\n",
       "\n",
       "    .dataframe tbody tr th {\n",
       "        vertical-align: top;\n",
       "    }\n",
       "\n",
       "    .dataframe thead th {\n",
       "        text-align: right;\n",
       "    }\n",
       "</style>\n",
       "<table border=\"1\" class=\"dataframe\">\n",
       "  <thead>\n",
       "    <tr style=\"text-align: right;\">\n",
       "      <th></th>\n",
       "      <th>Location</th>\n",
       "      <th>Temperature_C</th>\n",
       "      <th>Humidity_pct</th>\n",
       "      <th>Wind_Speed_kmh</th>\n",
       "      <th>Date_Time</th>\n",
       "    </tr>\n",
       "  </thead>\n",
       "  <tbody>\n",
       "    <tr>\n",
       "      <th>0</th>\n",
       "      <td>Philadelphia</td>\n",
       "      <td>-8.63</td>\n",
       "      <td>54.07</td>\n",
       "      <td>26.37</td>\n",
       "      <td>2/26/2024 17:32</td>\n",
       "    </tr>\n",
       "    <tr>\n",
       "      <th>1</th>\n",
       "      <td>New York</td>\n",
       "      <td>-6.89</td>\n",
       "      <td>30.80</td>\n",
       "      <td>16.85</td>\n",
       "      <td>1/25/2024 19:04</td>\n",
       "    </tr>\n",
       "    <tr>\n",
       "      <th>2</th>\n",
       "      <td>New York</td>\n",
       "      <td>0.96</td>\n",
       "      <td>38.82</td>\n",
       "      <td>7.99</td>\n",
       "      <td>3/29/2024 5:20</td>\n",
       "    </tr>\n",
       "    <tr>\n",
       "      <th>3</th>\n",
       "      <td>New York</td>\n",
       "      <td>35.15</td>\n",
       "      <td>54.75</td>\n",
       "      <td>25.43</td>\n",
       "      <td>3/4/2024 13:47</td>\n",
       "    </tr>\n",
       "    <tr>\n",
       "      <th>4</th>\n",
       "      <td>Dallas</td>\n",
       "      <td>32.02</td>\n",
       "      <td>53.19</td>\n",
       "      <td>3.05</td>\n",
       "      <td>2/27/2024 21:07</td>\n",
       "    </tr>\n",
       "    <tr>\n",
       "      <th>...</th>\n",
       "      <td>...</td>\n",
       "      <td>...</td>\n",
       "      <td>...</td>\n",
       "      <td>...</td>\n",
       "      <td>...</td>\n",
       "    </tr>\n",
       "    <tr>\n",
       "      <th>495</th>\n",
       "      <td>Dallas</td>\n",
       "      <td>35.35</td>\n",
       "      <td>66.51</td>\n",
       "      <td>16.81</td>\n",
       "      <td>4/6/2024 3:57</td>\n",
       "    </tr>\n",
       "    <tr>\n",
       "      <th>496</th>\n",
       "      <td>Los Angeles</td>\n",
       "      <td>33.80</td>\n",
       "      <td>40.55</td>\n",
       "      <td>10.46</td>\n",
       "      <td>5/15/2024 4:28</td>\n",
       "    </tr>\n",
       "    <tr>\n",
       "      <th>497</th>\n",
       "      <td>Chicago</td>\n",
       "      <td>19.86</td>\n",
       "      <td>45.88</td>\n",
       "      <td>27.25</td>\n",
       "      <td>4/9/2024 4:35</td>\n",
       "    </tr>\n",
       "    <tr>\n",
       "      <th>498</th>\n",
       "      <td>Philadelphia</td>\n",
       "      <td>21.00</td>\n",
       "      <td>61.12</td>\n",
       "      <td>12.01</td>\n",
       "      <td>5/8/2024 5:39</td>\n",
       "    </tr>\n",
       "    <tr>\n",
       "      <th>499</th>\n",
       "      <td>Los Angeles</td>\n",
       "      <td>-3.04</td>\n",
       "      <td>49.09</td>\n",
       "      <td>28.33</td>\n",
       "      <td>2/6/2024 18:00</td>\n",
       "    </tr>\n",
       "  </tbody>\n",
       "</table>\n",
       "<p>500 rows × 5 columns</p>\n",
       "</div>"
      ],
      "text/plain": [
       "         Location  Temperature_C  Humidity_pct  Wind_Speed_kmh  \\\n",
       "0    Philadelphia          -8.63         54.07           26.37   \n",
       "1        New York          -6.89         30.80           16.85   \n",
       "2        New York           0.96         38.82            7.99   \n",
       "3        New York          35.15         54.75           25.43   \n",
       "4          Dallas          32.02         53.19            3.05   \n",
       "..            ...            ...           ...             ...   \n",
       "495        Dallas          35.35         66.51           16.81   \n",
       "496   Los Angeles          33.80         40.55           10.46   \n",
       "497       Chicago          19.86         45.88           27.25   \n",
       "498  Philadelphia          21.00         61.12           12.01   \n",
       "499   Los Angeles          -3.04         49.09           28.33   \n",
       "\n",
       "           Date_Time  \n",
       "0    2/26/2024 17:32  \n",
       "1    1/25/2024 19:04  \n",
       "2     3/29/2024 5:20  \n",
       "3     3/4/2024 13:47  \n",
       "4    2/27/2024 21:07  \n",
       "..               ...  \n",
       "495    4/6/2024 3:57  \n",
       "496   5/15/2024 4:28  \n",
       "497    4/9/2024 4:35  \n",
       "498    5/8/2024 5:39  \n",
       "499   2/6/2024 18:00  \n",
       "\n",
       "[500 rows x 5 columns]"
      ]
     },
     "execution_count": 311,
     "metadata": {},
     "output_type": "execute_result"
    }
   ],
   "source": [
    "\n",
    "Weather_raw_data"
   ]
  },
  {
   "cell_type": "code",
   "execution_count": 312,
   "id": "07a95ccc",
   "metadata": {},
   "outputs": [
    {
     "data": {
      "text/plain": [
       "['Location', 'Temperature_C', 'Humidity_pct', 'Wind_Speed_kmh', 'Date_Time']"
      ]
     },
     "execution_count": 312,
     "metadata": {},
     "output_type": "execute_result"
    }
   ],
   "source": [
    "headers_list = Weather_raw_data.columns.values.tolist()\n",
    "\n",
    "headers_list\n"
   ]
  },
  {
   "cell_type": "code",
   "execution_count": null,
   "id": "f29e5a66",
   "metadata": {},
   "outputs": [],
   "source": []
  },
  {
   "cell_type": "code",
   "execution_count": null,
   "id": "1f860826",
   "metadata": {},
   "outputs": [],
   "source": []
  },
  {
   "cell_type": "code",
   "execution_count": 313,
   "id": "e5faf9a4",
   "metadata": {},
   "outputs": [],
   "source": [
    "Weather_raw_data_np = Weather_raw_data.to_numpy()"
   ]
  },
  {
   "cell_type": "code",
   "execution_count": 314,
   "id": "65facc09",
   "metadata": {},
   "outputs": [
    {
     "data": {
      "text/plain": [
       "array([['Philadelphia', -8.63, 54.07, 26.37, '2/26/2024 17:32'],\n",
       "       ['New York', -6.89, 30.8, 16.85, '1/25/2024 19:04'],\n",
       "       ['New York', 0.96, 38.82, 7.99, '3/29/2024 5:20'],\n",
       "       ...,\n",
       "       ['Chicago', 19.86, 45.88, 27.25, '4/9/2024 4:35'],\n",
       "       ['Philadelphia', 21.0, 61.12, 12.01, '5/8/2024 5:39'],\n",
       "       ['Los Angeles', -3.04, 49.09, 28.33, '2/6/2024 18:00']],\n",
       "      dtype=object)"
      ]
     },
     "execution_count": 314,
     "metadata": {},
     "output_type": "execute_result"
    }
   ],
   "source": [
    "Weather_raw_data_np"
   ]
  },
  {
   "cell_type": "code",
   "execution_count": 315,
   "id": "e36d5e99",
   "metadata": {},
   "outputs": [
    {
     "data": {
      "text/plain": [
       "(500, 5)"
      ]
     },
     "execution_count": 315,
     "metadata": {},
     "output_type": "execute_result"
    }
   ],
   "source": [
    "Weather_raw_data_np.shape"
   ]
  },
  {
   "cell_type": "code",
   "execution_count": 316,
   "id": "248bba4d",
   "metadata": {},
   "outputs": [],
   "source": [
    "X = Weather_raw_data_np[:, 1:4]     \n",
    "y = Weather_raw_data_np[:, 0]\n",
    "time_column = Weather_raw_data_np[:, 4]"
   ]
  },
  {
   "cell_type": "code",
   "execution_count": 317,
   "id": "fdb12b2a",
   "metadata": {},
   "outputs": [
    {
     "data": {
      "text/plain": [
       "array(['Philadelphia', 'New York', 'New York', 'New York', 'Dallas',\n",
       "       'Philadelphia', 'Chicago', 'New York', 'New York', 'Los Angeles',\n",
       "       'New York', 'Dallas', 'Chicago', 'Philadelphia', 'Dallas',\n",
       "       'Philadelphia', 'Chicago', 'New York', 'Dallas', 'New York',\n",
       "       'Philadelphia', 'Chicago', 'Chicago', 'Philadelphia', 'New York',\n",
       "       'New York', 'Philadelphia', 'Chicago', 'Dallas', 'Los Angeles',\n",
       "       'Chicago', 'Los Angeles', 'New York', 'New York', 'New York',\n",
       "       'Los Angeles', 'Dallas', 'Dallas', 'Chicago', 'Philadelphia',\n",
       "       'Los Angeles', 'Dallas', 'Los Angeles', 'Los Angeles',\n",
       "       'Philadelphia', 'Philadelphia', 'Chicago', 'Philadelphia',\n",
       "       'Chicago', 'Chicago', 'New York', 'Dallas', 'New York', 'Dallas',\n",
       "       'Dallas', 'Los Angeles', 'New York', 'Chicago', 'Los Angeles',\n",
       "       'Los Angeles', 'Chicago', 'Dallas', 'Chicago', 'Philadelphia',\n",
       "       'Dallas', 'Los Angeles', 'Dallas', 'Chicago', 'Los Angeles',\n",
       "       'Philadelphia', 'Los Angeles', 'Philadelphia', 'Dallas', 'Chicago',\n",
       "       'Los Angeles', 'New York', 'Dallas', 'Philadelphia', 'Los Angeles',\n",
       "       'Dallas', 'Los Angeles', 'Philadelphia', 'Dallas', 'Philadelphia',\n",
       "       'Los Angeles', 'Philadelphia', 'Philadelphia', 'Los Angeles',\n",
       "       'Los Angeles', 'Los Angeles', 'Chicago', 'New York', 'Dallas',\n",
       "       'New York', 'Chicago', 'Chicago', 'Los Angeles', 'Philadelphia',\n",
       "       'Philadelphia', 'Dallas', 'Los Angeles', 'Dallas', 'Los Angeles',\n",
       "       'Dallas', 'Los Angeles', 'Philadelphia', 'Los Angeles', 'Dallas',\n",
       "       'Los Angeles', 'Los Angeles', 'Los Angeles', 'Los Angeles',\n",
       "       'Philadelphia', 'Dallas', 'Chicago', 'Los Angeles', 'Dallas',\n",
       "       'Chicago', 'Chicago', 'Los Angeles', 'Philadelphia', 'Chicago',\n",
       "       'Philadelphia', 'Dallas', 'Los Angeles', 'Los Angeles',\n",
       "       'Los Angeles', 'New York', 'Philadelphia', 'New York',\n",
       "       'Los Angeles', 'Chicago', 'Los Angeles', 'Philadelphia', 'Chicago',\n",
       "       'Chicago', 'Philadelphia', 'Los Angeles', 'New York', 'Chicago',\n",
       "       'Chicago', 'Chicago', 'New York', 'Dallas', 'Los Angeles',\n",
       "       'Dallas', 'Philadelphia', 'Chicago', 'Chicago', 'Los Angeles',\n",
       "       'Los Angeles', 'New York', 'Chicago', 'Philadelphia',\n",
       "       'Los Angeles', 'New York', 'Dallas', 'Dallas', 'Philadelphia',\n",
       "       'Chicago', 'Dallas', 'Dallas', 'Dallas', 'Los Angeles', 'Chicago',\n",
       "       'Dallas', 'Los Angeles', 'Dallas', 'Chicago', 'Dallas', 'New York',\n",
       "       'New York', 'Chicago', 'New York', 'New York', 'New York',\n",
       "       'Dallas', 'Philadelphia', 'New York', 'Dallas', 'Los Angeles',\n",
       "       'Philadelphia', 'New York', 'Dallas', 'New York', 'Philadelphia',\n",
       "       'Chicago', 'Philadelphia', 'New York', 'Chicago', 'Dallas',\n",
       "       'Philadelphia', 'Los Angeles', 'Philadelphia', 'Chicago',\n",
       "       'Los Angeles', 'Los Angeles', 'Chicago', 'Chicago', 'New York',\n",
       "       'Dallas', 'Dallas', 'Chicago', 'Philadelphia', 'Dallas', 'Chicago',\n",
       "       'Chicago', 'Dallas', 'Philadelphia', 'New York', 'Chicago',\n",
       "       'Chicago', 'Los Angeles', 'New York', 'Philadelphia', 'Dallas',\n",
       "       'Dallas', 'Chicago', 'Philadelphia', 'Chicago', 'Los Angeles',\n",
       "       'Los Angeles', 'Los Angeles', 'New York', 'Philadelphia',\n",
       "       'Los Angeles', 'Philadelphia', 'Dallas', 'Philadelphia', 'Chicago',\n",
       "       'Philadelphia', 'Dallas', 'Los Angeles', 'Philadelphia', 'Dallas',\n",
       "       'Dallas', 'Philadelphia', 'Philadelphia', 'Philadelphia',\n",
       "       'New York', 'Philadelphia', 'Los Angeles', 'Los Angeles',\n",
       "       'New York', 'New York', 'Los Angeles', 'Dallas', 'Chicago',\n",
       "       'Los Angeles', 'Chicago', 'New York', 'Los Angeles', 'Chicago',\n",
       "       'New York', 'Chicago', 'Dallas', 'New York', 'Philadelphia',\n",
       "       'Philadelphia', 'Los Angeles', 'New York', 'Philadelphia',\n",
       "       'Dallas', 'Los Angeles', 'New York', 'New York', 'Philadelphia',\n",
       "       'Dallas', 'Philadelphia', 'Philadelphia', 'Chicago', 'New York',\n",
       "       'Chicago', 'Los Angeles', 'Chicago', 'Los Angeles', 'New York',\n",
       "       'New York', 'Los Angeles', 'Philadelphia', 'New York', 'Chicago',\n",
       "       'Dallas', 'Philadelphia', 'New York', 'New York', 'Chicago',\n",
       "       'New York', 'Philadelphia', 'Philadelphia', 'Philadelphia',\n",
       "       'New York', 'New York', 'New York', 'Dallas', 'New York',\n",
       "       'Chicago', 'Chicago', 'Chicago', 'New York', 'New York', 'Chicago',\n",
       "       'New York', 'Dallas', 'New York', 'Chicago', 'Los Angeles',\n",
       "       'Los Angeles', 'New York', 'Dallas', 'New York', 'Chicago',\n",
       "       'Dallas', 'Dallas', 'Philadelphia', 'Chicago', 'Los Angeles',\n",
       "       'Los Angeles', 'Philadelphia', 'Chicago', 'Philadelphia', 'Dallas',\n",
       "       'New York', 'Chicago', 'New York', 'Philadelphia', 'Philadelphia',\n",
       "       'Chicago', 'Los Angeles', 'Philadelphia', 'Chicago', 'New York',\n",
       "       'New York', 'Dallas', 'Dallas', 'Dallas', 'Los Angeles', 'Dallas',\n",
       "       'Los Angeles', 'Philadelphia', 'Los Angeles', 'Dallas', 'Chicago',\n",
       "       'Philadelphia', 'Chicago', 'Chicago', 'Chicago', 'Los Angeles',\n",
       "       'Chicago', 'Philadelphia', 'Philadelphia', 'Philadelphia',\n",
       "       'New York', 'New York', 'Dallas', 'New York', 'Dallas', 'Chicago',\n",
       "       'Chicago', 'Los Angeles', 'Los Angeles', 'Los Angeles', 'New York',\n",
       "       'Philadelphia', 'Chicago', 'New York', 'Dallas', 'Dallas',\n",
       "       'New York', 'Chicago', 'Dallas', 'Philadelphia', 'Philadelphia',\n",
       "       'Chicago', 'Los Angeles', 'Dallas', 'Dallas', 'Los Angeles',\n",
       "       'Dallas', 'Los Angeles', 'New York', 'Dallas', 'New York',\n",
       "       'Dallas', 'New York', 'Dallas', 'New York', 'Philadelphia',\n",
       "       'Dallas', 'Los Angeles', 'Dallas', 'New York', 'Los Angeles',\n",
       "       'New York', 'Los Angeles', 'Dallas', 'Dallas', 'Los Angeles',\n",
       "       'New York', 'Dallas', 'Philadelphia', 'Dallas', 'Los Angeles',\n",
       "       'Dallas', 'New York', 'New York', 'Dallas', 'New York', 'Chicago',\n",
       "       'Chicago', 'Philadelphia', 'New York', 'New York', 'Philadelphia',\n",
       "       'New York', 'New York', 'New York', 'Chicago', 'Chicago',\n",
       "       'Philadelphia', 'Chicago', 'Philadelphia', 'Chicago',\n",
       "       'Philadelphia', 'New York', 'Los Angeles', 'Chicago', 'Dallas',\n",
       "       'Dallas', 'Philadelphia', 'Dallas', 'Chicago', 'Los Angeles',\n",
       "       'New York', 'Los Angeles', 'Philadelphia', 'New York', 'Dallas',\n",
       "       'New York', 'New York', 'Dallas', 'Philadelphia', 'Philadelphia',\n",
       "       'Los Angeles', 'Dallas', 'Philadelphia', 'Dallas', 'Philadelphia',\n",
       "       'Chicago', 'New York', 'Philadelphia', 'Dallas', 'Chicago',\n",
       "       'Chicago', 'Philadelphia', 'Chicago', 'Chicago', 'Los Angeles',\n",
       "       'Dallas', 'Los Angeles', 'Philadelphia', 'Los Angeles',\n",
       "       'Philadelphia', 'Philadelphia', 'Los Angeles', 'Los Angeles',\n",
       "       'Chicago', 'Philadelphia', 'Los Angeles', 'Philadelphia',\n",
       "       'Philadelphia', 'Chicago', 'Dallas', 'Chicago', 'Philadelphia',\n",
       "       'Dallas', 'Philadelphia', 'Los Angeles', 'Dallas', 'Chicago',\n",
       "       'Chicago', 'Chicago', 'Los Angeles', 'Chicago', 'New York',\n",
       "       'Dallas', 'New York', 'Los Angeles', 'New York', 'New York',\n",
       "       'Dallas', 'New York', 'Los Angeles', 'Los Angeles', 'Philadelphia',\n",
       "       'Dallas', 'Los Angeles', 'Chicago', 'Philadelphia', 'Los Angeles'],\n",
       "      dtype=object)"
      ]
     },
     "execution_count": 317,
     "metadata": {},
     "output_type": "execute_result"
    }
   ],
   "source": [
    "\n",
    "y"
   ]
  },
  {
   "cell_type": "code",
   "execution_count": null,
   "id": "bcc4df71",
   "metadata": {},
   "outputs": [],
   "source": []
  },
  {
   "cell_type": "code",
   "execution_count": 318,
   "id": "7bd776a8",
   "metadata": {},
   "outputs": [
    {
     "name": "stdout",
     "output_type": "stream",
     "text": [
      "(500, 3)\n",
      "(500,)\n"
     ]
    }
   ],
   "source": [
    "print(X.shape)\n",
    "\n",
    "print(y.shape)\n",
    "\n",
    "encoder = LabelEncoder()\n",
    "y_encoder = encoder.fit_transform(y) "
   ]
  },
  {
   "cell_type": "code",
   "execution_count": 319,
   "id": "eeea13c5",
   "metadata": {},
   "outputs": [],
   "source": [
    "random_seed = int( random.random() * 100 )     ## 42"
   ]
  },
  {
   "cell_type": "code",
   "execution_count": 320,
   "id": "9e57c17b",
   "metadata": {},
   "outputs": [],
   "source": [
    "X_train, X_test, y_train, y_test = train_test_split(X, y_encoder, test_size=0.2, random_state=random_seed)"
   ]
  },
  {
   "cell_type": "code",
   "execution_count": 321,
   "id": "03436019",
   "metadata": {},
   "outputs": [
    {
     "name": "stdout",
     "output_type": "stream",
     "text": [
      "(400, 3)\n",
      "(100, 3)\n",
      "(400,)\n",
      "(100,)\n"
     ]
    }
   ],
   "source": [
    "print(X_train.shape)\n",
    "print(X_test.shape)\n",
    "print(y_train.shape)\n",
    "print(y_test.shape)"
   ]
  },
  {
   "cell_type": "code",
   "execution_count": 322,
   "id": "81cd65d5",
   "metadata": {},
   "outputs": [
    {
     "data": {
      "text/plain": [
       "dtype('int32')"
      ]
     },
     "execution_count": 322,
     "metadata": {},
     "output_type": "execute_result"
    }
   ],
   "source": [
    "y_train.dtype "
   ]
  },
  {
   "cell_type": "code",
   "execution_count": null,
   "id": "0b4ecc4e",
   "metadata": {},
   "outputs": [],
   "source": []
  },
  {
   "cell_type": "code",
   "execution_count": 323,
   "id": "6ec0113d",
   "metadata": {},
   "outputs": [],
   "source": [
    "X_train = X_train.astype(  np.float32  )\n",
    "X_test  = X_test.astype(   np.float32 )\n",
    "y_train = y_train.astype(  np.int64  )\n",
    "y_test  = y_test.astype(   np.int64 )"
   ]
  },
  {
   "cell_type": "code",
   "execution_count": 324,
   "id": "cb115bdd",
   "metadata": {},
   "outputs": [],
   "source": [
    "X_train_tr = torch.from_numpy(X_train)\n",
    "X_test_tr  = torch.from_numpy(X_test)\n",
    "y_train_tr = torch.from_numpy(y_train)\n",
    "y_test_tr  = torch.from_numpy(y_test)"
   ]
  },
  {
   "cell_type": "code",
   "execution_count": 325,
   "id": "42f0a120",
   "metadata": {},
   "outputs": [],
   "source": [
    "x_mean = X_train_tr.mean(0, keepdim=True)\n",
    "x_std = X_train_tr.std(0, keepdim=True) + epsilon\n",
    "X_train_tr = (X_train_tr - x_mean) / x_std\n",
    "X_test_tr  = (X_test_tr - x_mean) / x_std"
   ]
  },
  {
   "cell_type": "code",
   "execution_count": null,
   "id": "c1473c3f",
   "metadata": {},
   "outputs": [],
   "source": []
  },
  {
   "cell_type": "code",
   "execution_count": 326,
   "id": "3e58ec10",
   "metadata": {},
   "outputs": [],
   "source": [
    "train_ds = TensorDataset( X_train_tr, y_train_tr  )"
   ]
  },
  {
   "cell_type": "code",
   "execution_count": 327,
   "id": "bbbdb545",
   "metadata": {},
   "outputs": [],
   "source": [
    "train_dl = DataLoader( train_ds, batch_size, shuffle=True  )"
   ]
  },
  {
   "cell_type": "code",
   "execution_count": 328,
   "id": "1edd7921",
   "metadata": {},
   "outputs": [],
   "source": [
    "test_ds = TensorDataset(X_test_tr, y_test_tr)\n",
    "test_dl = DataLoader(test_ds, batch_size=batch_size)\n"
   ]
  },
  {
   "cell_type": "code",
   "execution_count": null,
   "id": "bfecc504",
   "metadata": {},
   "outputs": [],
   "source": []
  },
  {
   "cell_type": "code",
   "execution_count": 335,
   "id": "174b1858",
   "metadata": {},
   "outputs": [],
   "source": [
    "class MLP_Classifier(nn.Module):\n",
    "    def __init__(self):\n",
    "        super().__init__()\n",
    "        self.model = nn.Sequential(\n",
    "            nn.Linear(3, 64),        # input: 3 features\n",
    "            nn.LeakyReLU(),\n",
    "            nn.Dropout(0.2),\n",
    "            \n",
    "            nn.Linear(64, 128),\n",
    "            nn.LeakyReLU(),\n",
    "            nn.Dropout(0.2),\n",
    "            \n",
    "            nn.Linear(128, 64),\n",
    "            nn.LeakyReLU(),\n",
    "            nn.Dropout(0.2),\n",
    "            \n",
    "            nn.Linear(64, 5) \n",
    "        )\n",
    "        \n",
    "    def forward(self, x):\n",
    "        return self.model(x)  \n"
   ]
  },
  {
   "cell_type": "code",
   "execution_count": null,
   "id": "23401df4",
   "metadata": {},
   "outputs": [],
   "source": []
  },
  {
   "cell_type": "code",
   "execution_count": 340,
   "id": "96f1f7b6",
   "metadata": {},
   "outputs": [],
   "source": [
    "def training_loop( N_Epochs, model, loss_fn, opt  ):\n",
    "    \n",
    "    for epoch in range(N_Epochs):\n",
    "        for xb, yb in train_dl:\n",
    "            \n",
    "            xb = xb.to( torch_device )\n",
    "            yb = yb.to( torch_device )\n",
    "            \n",
    "            y_pred = model(xb)\n",
    "            \n",
    "            loss = loss_fn(y_pred, yb)\n",
    "            \n",
    "            opt.zero_grad()\n",
    "            loss.backward()\n",
    "            opt.step()\n",
    "        \n",
    "        if epoch % 5 == 0:\n",
    "            print(epoch, \"loss=\", loss)\n",
    "        "
   ]
  },
  {
   "cell_type": "code",
   "execution_count": null,
   "id": "fcdc1b92",
   "metadata": {},
   "outputs": [],
   "source": []
  },
  {
   "cell_type": "code",
   "execution_count": null,
   "id": "2cf67ae4",
   "metadata": {},
   "outputs": [],
   "source": []
  },
  {
   "cell_type": "code",
   "execution_count": 341,
   "id": "5eb16e76",
   "metadata": {},
   "outputs": [
    {
     "name": "stdout",
     "output_type": "stream",
     "text": [
      "0 loss= tensor(1.6095, grad_fn=<NllLossBackward0>)\n",
      "5 loss= tensor(1.5431, grad_fn=<NllLossBackward0>)\n",
      "10 loss= tensor(1.5938, grad_fn=<NllLossBackward0>)\n",
      "15 loss= tensor(1.5226, grad_fn=<NllLossBackward0>)\n",
      "20 loss= tensor(1.5511, grad_fn=<NllLossBackward0>)\n",
      "25 loss= tensor(1.6035, grad_fn=<NllLossBackward0>)\n",
      "30 loss= tensor(1.5163, grad_fn=<NllLossBackward0>)\n",
      "35 loss= tensor(1.5470, grad_fn=<NllLossBackward0>)\n",
      "40 loss= tensor(1.4960, grad_fn=<NllLossBackward0>)\n",
      "45 loss= tensor(1.6651, grad_fn=<NllLossBackward0>)\n",
      "50 loss= tensor(1.4539, grad_fn=<NllLossBackward0>)\n",
      "55 loss= tensor(1.6329, grad_fn=<NllLossBackward0>)\n",
      "60 loss= tensor(1.4255, grad_fn=<NllLossBackward0>)\n",
      "65 loss= tensor(1.5454, grad_fn=<NllLossBackward0>)\n",
      "70 loss= tensor(1.5232, grad_fn=<NllLossBackward0>)\n",
      "75 loss= tensor(1.7310, grad_fn=<NllLossBackward0>)\n",
      "80 loss= tensor(1.4385, grad_fn=<NllLossBackward0>)\n",
      "85 loss= tensor(1.5114, grad_fn=<NllLossBackward0>)\n",
      "90 loss= tensor(1.3800, grad_fn=<NllLossBackward0>)\n",
      "95 loss= tensor(1.5934, grad_fn=<NllLossBackward0>)\n"
     ]
    }
   ],
   "source": [
    "model = MLP_Classifier()\n",
    "\n",
    "opt     = torch.optim.Adam(    model.parameters(), lr=learning_rate )\n",
    "loss_fn = nn.CrossEntropyLoss()\n",
    "\n",
    "training_loop(  N_Epochs, model, loss_fn, opt  )"
   ]
  },
  {
   "cell_type": "code",
   "execution_count": null,
   "id": "4a28cb2a",
   "metadata": {},
   "outputs": [],
   "source": []
  },
  {
   "cell_type": "code",
   "execution_count": null,
   "id": "e277f1ef",
   "metadata": {},
   "outputs": [],
   "source": []
  },
  {
   "cell_type": "code",
   "execution_count": 342,
   "id": "7ba751cf",
   "metadata": {},
   "outputs": [],
   "source": [
    "def print_metrics_function(y_test, y_pred):\n",
    "    print('Accuracy: %.2f' % accuracy_score(y_test, y_pred))\n",
    "    confmat = confusion_matrix(y_true=y_test, y_pred=y_pred)\n",
    "    print(\"Confusion Matrix:\")\n",
    "    print(confmat)\n",
    "    print('Precision: %.3f' % precision_score(y_true=y_test, y_pred=y_pred, average='weighted', zero_division =0))\n",
    "    print('Recall: %.3f' % recall_score(y_true=y_test, y_pred=y_pred, average='weighted', zero_division =0))\n",
    "    print('F1-measure: %.3f' % f1_score(y_true=y_test, y_pred=y_pred, average='weighted', zero_division =0))\n",
    "\n",
    "def testing_loop(test_dl, model, device):\n",
    "    my_f1 = 0.0\n",
    "    count = 0.0\n",
    "    with torch.no_grad():\n",
    "        for x_raw, y_raw in test_dl:\n",
    "            x_true, y_true = x_raw.to(device), y_raw.to(device)\n",
    "            _, y_pred = torch.max(model(x_true), dim=1)\n",
    "            my_f1 += f1_score(y_true, y_pred, num_classes=10)\n",
    "            count += 1\n",
    "    return my_f1 / count"
   ]
  },
  {
   "cell_type": "code",
   "execution_count": 343,
   "id": "e5c0d2a8",
   "metadata": {},
   "outputs": [
    {
     "name": "stdout",
     "output_type": "stream",
     "text": [
      "Accuracy: 0.28\n",
      "Confusion Matrix:\n",
      "[[2 4 1 0 0]\n",
      " [1 2 0 1 0]\n",
      " [0 2 2 1 4]\n",
      " [1 2 1 0 3]\n",
      " [0 0 1 1 3]]\n",
      "Precision: 0.294\n",
      "Recall: 0.281\n",
      "F1-measure: 0.258\n",
      "Accuracy: 0.34\n",
      "Confusion Matrix:\n",
      "[[3 1 2 0 1]\n",
      " [2 2 0 0 2]\n",
      " [0 0 2 1 1]\n",
      " [1 1 1 3 3]\n",
      " [1 1 1 2 1]]\n",
      "Precision: 0.374\n",
      "Recall: 0.344\n",
      "F1-measure: 0.351\n",
      "Accuracy: 0.19\n",
      "Confusion Matrix:\n",
      "[[0 0 3 2 2]\n",
      " [2 4 2 1 1]\n",
      " [2 2 0 0 2]\n",
      " [0 3 0 1 1]\n",
      " [1 2 0 0 1]]\n",
      "Precision: 0.171\n",
      "Recall: 0.188\n",
      "F1-measure: 0.176\n",
      "Accuracy: 0.25\n",
      "Confusion Matrix:\n",
      "[[1 0 1 0]\n",
      " [0 0 1 0]\n",
      " [0 0 0 0]\n",
      " [0 0 1 0]]\n",
      "Precision: 0.500\n",
      "Recall: 0.250\n",
      "F1-measure: 0.333\n"
     ]
    }
   ],
   "source": [
    "torch_device = torch.device(\"cuda\" if torch.cuda.is_available() else \"cpu\")\n",
    "\n",
    "with torch.no_grad():\n",
    "    for x_real, y_real in test_dl:\n",
    "        \n",
    "        batch_size = x_real.shape[0]\n",
    "        \n",
    "        ## x_real = x_real.view(  (batch_size, -1 ) )\n",
    "        \n",
    "        x_real = x_real.to( torch_device )\n",
    "        \n",
    "        y_pred = model(  x_real  )\n",
    "        \n",
    "        vals, indeces = torch.max( y_pred, dim=1  )\n",
    "        preds = indeces\n",
    "        print_metrics_function( y_real, preds.cpu() )"
   ]
  },
  {
   "cell_type": "code",
   "execution_count": null,
   "id": "441a04c8",
   "metadata": {},
   "outputs": [],
   "source": []
  },
  {
   "cell_type": "code",
   "execution_count": null,
   "id": "ae74f248",
   "metadata": {},
   "outputs": [],
   "source": []
  },
  {
   "cell_type": "code",
   "execution_count": 344,
   "id": "e35b329b",
   "metadata": {},
   "outputs": [],
   "source": [
    "model.eval()\n",
    "\n",
    "dummy_input = torch.randn(1, 3)\n",
    "\n",
    "input_names  = [\"input1\"]\n",
    "output_names = [\"output1\"]\n",
    "\n",
    "torch.onnx.export(\n",
    "        model, \n",
    "        dummy_input,\n",
    "        \"DLnet_WeatherData.onnx\",\n",
    "        verbose=False,\n",
    "        input_names = input_names,\n",
    "        output_names = output_names\n",
    ")"
   ]
  },
  {
   "cell_type": "code",
   "execution_count": null,
   "id": "1ad18c60",
   "metadata": {},
   "outputs": [],
   "source": []
  }
 ],
 "metadata": {
  "kernelspec": {
   "display_name": "Python 3 (ipykernel)",
   "language": "python",
   "name": "python3"
  },
  "language_info": {
   "codemirror_mode": {
    "name": "ipython",
    "version": 3
   },
   "file_extension": ".py",
   "mimetype": "text/x-python",
   "name": "python",
   "nbconvert_exporter": "python",
   "pygments_lexer": "ipython3",
   "version": "3.7.16"
  }
 },
 "nbformat": 4,
 "nbformat_minor": 5
}
